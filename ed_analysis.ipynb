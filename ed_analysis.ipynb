{
 "cells": [
  {
   "cell_type": "code",
   "execution_count": 3,
   "id": "87c5d74b",
   "metadata": {},
   "outputs": [
    {
     "name": "stdout",
     "output_type": "stream",
     "text": [
      "   ID           Name             Major       Year\n",
      "0   1  Vihaan Sharma       Engineering  Sophomore\n",
      "1   2    Ayaan Gupta  Computer Science   Freshman\n",
      "2   3   Aarohi Kumar  Computer Science   Freshman\n",
      "3   4   Aditya Singh       Mathematics   Freshman\n",
      "4   5    Anika Singh           History     Senior\n",
      "   Student_ID  Course_ID Grade\n",
      "0           1          1     B\n",
      "1           1          2     A\n",
      "2           1          3     C\n",
      "3           1          4     B\n",
      "4           1          5     C\n"
     ]
    }
   ],
   "source": [
    "import pandas as pd\n",
    "import random\n",
    "\n",
    "# Set random seed for reproducibility\n",
    "random.seed(42)\n",
    "\n",
    "# Sample lists of Indian first names and last names\n",
    "indian_first_names = [\n",
    "    \"Aarav\", \"Vivaan\", \"Aditya\", \"Vihaan\", \"Arjun\", \"Sai\", \"Reyansh\", \"Ayaan\", \"Krishna\", \"Ishaan\",\n",
    "    \"Saanvi\", \"Aadhya\", \"Kiara\", \"Diya\", \"Pihu\", \"Pari\", \"Ananya\", \"Anika\", \"Aarohi\", \"Myra\"\n",
    "]\n",
    "indian_last_names = [\n",
    "    \"Sharma\", \"Verma\", \"Gupta\", \"Singh\", \"Patel\", \"Reddy\", \"Kumar\", \"Jain\", \"Agarwal\", \"Khan\"\n",
    "]\n",
    "\n",
    "# Define student enrollment data generation function\n",
    "def generate_students(num_students):\n",
    "    students = []\n",
    "    majors = [\"Computer Science\", \"Mathematics\", \"Engineering\", \"Business\", \"History\"]\n",
    "    years = [\"Freshman\", \"Sophomore\", \"Junior\", \"Senior\"]\n",
    "    \n",
    "    for i in range(num_students):\n",
    "        first_name = random.choice(indian_first_names)\n",
    "        last_name = random.choice(indian_last_names)\n",
    "        student = {\n",
    "            \"ID\": i + 1,\n",
    "            \"Name\": f\"{first_name} {last_name}\",\n",
    "            \"Major\": random.choice(majors),\n",
    "            \"Year\": random.choice(years),\n",
    "        }\n",
    "        students.append(student)\n",
    "    return pd.DataFrame(students)\n",
    "\n",
    "# Define function to generate grades with weighted distribution\n",
    "def generate_grades(num_students, num_courses):\n",
    "    grades = []\n",
    "    grades_distribution = {\"A\": 0.1, \"B\": 0.3, \"C\": 0.4, \"D\": 0.15, \"F\": 0.05}\n",
    "\n",
    "    for student_id in range(1, num_students + 1):\n",
    "        for course_id in range(1, num_courses + 1):\n",
    "            grade = random.choices(list(grades_distribution.keys()), weights=list(grades_distribution.values()))[0]\n",
    "            grades.append({\n",
    "                \"Student_ID\": student_id,\n",
    "                \"Course_ID\": course_id,\n",
    "                \"Grade\": grade\n",
    "            })\n",
    "    return pd.DataFrame(grades)\n",
    "\n",
    "# Generate sample data (adjust parameters as needed)\n",
    "students_df = generate_students(100)\n",
    "grades_df = generate_grades(100, 5)\n",
    "\n",
    "# Print sample dataframes (comment out for larger datasets)\n",
    "print(students_df.head())\n",
    "print(grades_df.head())\n",
    "\n",
    "# Optionally export data to CSV\n",
    "students_df.to_csv('students.csv', index=False)\n",
    "grades_df.to_csv('grades.csv', index=False)\n",
    "\n"
   ]
  },
  {
   "cell_type": "code",
   "execution_count": null,
   "id": "b817b1d5",
   "metadata": {},
   "outputs": [],
   "source": []
  }
 ],
 "metadata": {
  "kernelspec": {
   "display_name": "Python 3 (ipykernel)",
   "language": "python",
   "name": "python3"
  },
  "language_info": {
   "codemirror_mode": {
    "name": "ipython",
    "version": 3
   },
   "file_extension": ".py",
   "mimetype": "text/x-python",
   "name": "python",
   "nbconvert_exporter": "python",
   "pygments_lexer": "ipython3",
   "version": "3.11.5"
  }
 },
 "nbformat": 4,
 "nbformat_minor": 5
}
